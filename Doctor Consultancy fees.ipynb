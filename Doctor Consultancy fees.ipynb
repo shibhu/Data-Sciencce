{
 "cells": [
  {
   "cell_type": "code",
   "execution_count": 1,
   "metadata": {},
   "outputs": [],
   "source": [
    "import numpy as np\n",
    "import pandas as pd\n",
    "import matplotlib.pyplot as plt\n",
    "%matplotlib inline\n",
    "import seaborn as sns\n",
    "import warnings\n",
    "warnings.filterwarnings('ignore')\n",
    "from sklearn import preprocessing\n",
    "from sklearn.preprocessing import power_transform\n",
    "from sklearn.tree import DecisionTreeClassifier\n",
    "from sklearn.model_selection import train_test_split\n",
    "from sklearn.metrics import accuracy_score\n",
    "from imblearn.over_sampling import SMOTE\n",
    "from sklearn.linear_model import LogisticRegression\n",
    "from sklearn.metrics import classification_report\n",
    "from sklearn.tree import DecisionTreeClassifier\n",
    "from sklearn.ensemble import RandomForestClassifier\n",
    "from sklearn.svm import SVC\n",
    "from sklearn.model_selection  import cross_val_score\n",
    "from sklearn.linear_model import Ridge\n",
    "from sklearn.linear_model import Lasso\n",
    "from sklearn.linear_model import ElasticNet"
   ]
  },
  {
   "cell_type": "markdown",
   "metadata": {},
   "source": [
    "# -------Train data set--------"
   ]
  },
  {
   "cell_type": "code",
   "execution_count": 2,
   "metadata": {},
   "outputs": [],
   "source": [
    "df = pd.read_excel(\"Final_Train.xlsx\")"
   ]
  },
  {
   "cell_type": "code",
   "execution_count": 3,
   "metadata": {},
   "outputs": [
    {
     "data": {
      "text/html": [
       "<div>\n",
       "<style scoped>\n",
       "    .dataframe tbody tr th:only-of-type {\n",
       "        vertical-align: middle;\n",
       "    }\n",
       "\n",
       "    .dataframe tbody tr th {\n",
       "        vertical-align: top;\n",
       "    }\n",
       "\n",
       "    .dataframe thead th {\n",
       "        text-align: right;\n",
       "    }\n",
       "</style>\n",
       "<table border=\"1\" class=\"dataframe\">\n",
       "  <thead>\n",
       "    <tr style=\"text-align: right;\">\n",
       "      <th></th>\n",
       "      <th>Qualification</th>\n",
       "      <th>Experience</th>\n",
       "      <th>Rating</th>\n",
       "      <th>Place</th>\n",
       "      <th>Profile</th>\n",
       "      <th>Miscellaneous_Info</th>\n",
       "      <th>Fees</th>\n",
       "    </tr>\n",
       "  </thead>\n",
       "  <tbody>\n",
       "    <tr>\n",
       "      <th>0</th>\n",
       "      <td>BHMS, MD - Homeopathy</td>\n",
       "      <td>24 years experience</td>\n",
       "      <td>100%</td>\n",
       "      <td>Kakkanad, Ernakulam</td>\n",
       "      <td>Homeopath</td>\n",
       "      <td>100% 16 Feedback Kakkanad, Ernakulam</td>\n",
       "      <td>100</td>\n",
       "    </tr>\n",
       "    <tr>\n",
       "      <th>1</th>\n",
       "      <td>BAMS, MD - Ayurveda Medicine</td>\n",
       "      <td>12 years experience</td>\n",
       "      <td>98%</td>\n",
       "      <td>Whitefield, Bangalore</td>\n",
       "      <td>Ayurveda</td>\n",
       "      <td>98% 76 Feedback Whitefield, Bangalore</td>\n",
       "      <td>350</td>\n",
       "    </tr>\n",
       "    <tr>\n",
       "      <th>2</th>\n",
       "      <td>MBBS, MS - Otorhinolaryngology</td>\n",
       "      <td>9 years experience</td>\n",
       "      <td>NaN</td>\n",
       "      <td>Mathikere - BEL, Bangalore</td>\n",
       "      <td>ENT Specialist</td>\n",
       "      <td>NaN</td>\n",
       "      <td>300</td>\n",
       "    </tr>\n",
       "    <tr>\n",
       "      <th>3</th>\n",
       "      <td>BSc - Zoology, BAMS</td>\n",
       "      <td>12 years experience</td>\n",
       "      <td>NaN</td>\n",
       "      <td>Bannerghatta Road, Bangalore</td>\n",
       "      <td>Ayurveda</td>\n",
       "      <td>Bannerghatta Road, Bangalore ₹250 Available on...</td>\n",
       "      <td>250</td>\n",
       "    </tr>\n",
       "    <tr>\n",
       "      <th>4</th>\n",
       "      <td>BAMS</td>\n",
       "      <td>20 years experience</td>\n",
       "      <td>100%</td>\n",
       "      <td>Keelkattalai, Chennai</td>\n",
       "      <td>Ayurveda</td>\n",
       "      <td>100% 4 Feedback Keelkattalai, Chennai</td>\n",
       "      <td>250</td>\n",
       "    </tr>\n",
       "  </tbody>\n",
       "</table>\n",
       "</div>"
      ],
      "text/plain": [
       "                    Qualification           Experience Rating  \\\n",
       "0           BHMS, MD - Homeopathy  24 years experience   100%   \n",
       "1    BAMS, MD - Ayurveda Medicine  12 years experience    98%   \n",
       "2  MBBS, MS - Otorhinolaryngology   9 years experience    NaN   \n",
       "3             BSc - Zoology, BAMS  12 years experience    NaN   \n",
       "4                            BAMS  20 years experience   100%   \n",
       "\n",
       "                          Place         Profile  \\\n",
       "0           Kakkanad, Ernakulam       Homeopath   \n",
       "1         Whitefield, Bangalore        Ayurveda   \n",
       "2    Mathikere - BEL, Bangalore  ENT Specialist   \n",
       "3  Bannerghatta Road, Bangalore        Ayurveda   \n",
       "4         Keelkattalai, Chennai        Ayurveda   \n",
       "\n",
       "                                  Miscellaneous_Info  Fees  \n",
       "0               100% 16 Feedback Kakkanad, Ernakulam   100  \n",
       "1              98% 76 Feedback Whitefield, Bangalore   350  \n",
       "2                                                NaN   300  \n",
       "3  Bannerghatta Road, Bangalore ₹250 Available on...   250  \n",
       "4              100% 4 Feedback Keelkattalai, Chennai   250  "
      ]
     },
     "execution_count": 3,
     "metadata": {},
     "output_type": "execute_result"
    }
   ],
   "source": [
    "df.head()"
   ]
  },
  {
   "cell_type": "markdown",
   "metadata": {},
   "source": [
    "# EDA"
   ]
  },
  {
   "cell_type": "code",
   "execution_count": 4,
   "metadata": {},
   "outputs": [
    {
     "data": {
      "text/plain": [
       "Qualification         object\n",
       "Experience            object\n",
       "Rating                object\n",
       "Place                 object\n",
       "Profile               object\n",
       "Miscellaneous_Info    object\n",
       "Fees                   int64\n",
       "dtype: object"
      ]
     },
     "execution_count": 4,
     "metadata": {},
     "output_type": "execute_result"
    }
   ],
   "source": [
    "df.dtypes"
   ]
  },
  {
   "cell_type": "markdown",
   "metadata": {},
   "source": [
    "Target variable is of type int"
   ]
  },
  {
   "cell_type": "code",
   "execution_count": 5,
   "metadata": {},
   "outputs": [
    {
     "data": {
      "text/plain": [
       "(5961, 7)"
      ]
     },
     "execution_count": 5,
     "metadata": {},
     "output_type": "execute_result"
    }
   ],
   "source": [
    "df.shape"
   ]
  },
  {
   "cell_type": "markdown",
   "metadata": {},
   "source": [
    "We have 5961 rows and 7 columns"
   ]
  },
  {
   "cell_type": "code",
   "execution_count": 6,
   "metadata": {},
   "outputs": [
    {
     "data": {
      "text/plain": [
       "Qualification            0\n",
       "Experience               0\n",
       "Rating                3302\n",
       "Place                   25\n",
       "Profile                  0\n",
       "Miscellaneous_Info    2620\n",
       "Fees                     0\n",
       "dtype: int64"
      ]
     },
     "execution_count": 6,
     "metadata": {},
     "output_type": "execute_result"
    }
   ],
   "source": [
    "df.isnull().sum()"
   ]
  },
  {
   "cell_type": "markdown",
   "metadata": {},
   "source": [
    "Null values are present in Rating, Place, Miscellaneous_Info"
   ]
  },
  {
   "cell_type": "code",
   "execution_count": 7,
   "metadata": {},
   "outputs": [
    {
     "data": {
      "text/plain": [
       "BDS                                                                                                          488\n",
       "BHMS                                                                                                         477\n",
       "BAMS                                                                                                         471\n",
       "MBBS                                                                                                         334\n",
       "MBBS, MS - ENT                                                                                               220\n",
       "                                                                                                            ... \n",
       "MD - Dermatology , Venereology & Leprosy, MBBS, MD - Dermatology, Certificate in Aesthetic Medicine            1\n",
       "DNB - Dermatology & Venereology, DVD, MBBS                                                                     1\n",
       "MBBS, DVD, DNB - Dermatology & Venereology                                                                     1\n",
       "MBBS, DNB - Pulmonary Medicine, DIPLOMA IN TB AND CHEST DISEASES, Advanced Certificate Course In Diabetes      1\n",
       "MBBS, MS - ENT, DNB - ENT, Diploma in Otorhinolaryngology (DLO)                                                1\n",
       "Name: Qualification, Length: 1420, dtype: int64"
      ]
     },
     "execution_count": 7,
     "metadata": {},
     "output_type": "execute_result"
    }
   ],
   "source": [
    "df['Qualification'].value_counts()"
   ]
  },
  {
   "cell_type": "markdown",
   "metadata": {},
   "source": [
    "In Qualification many rows have common degrees like MBBS, BDS etc"
   ]
  },
  {
   "cell_type": "code",
   "execution_count": 8,
   "metadata": {},
   "outputs": [
    {
     "data": {
      "text/plain": [
       "BDS                                                      488\n",
       "BHMS                                                     477\n",
       "BAMS                                                     471\n",
       "MBBS                                                     334\n",
       "MBBS, MS - ENT                                           220\n",
       "MBBS, MD - Dermatology                                   178\n",
       "MBBS, MD - General Medicine                              177\n",
       "MBBS, MD - Dermatology , Venereology & Leprosy           140\n",
       "BHMS, MD - Homeopathy                                     93\n",
       "MBBS, DDVL                                                92\n",
       "MBBS, Diploma in Otorhinolaryngology (DLO)                84\n",
       "BAMS, MD - Ayurveda Medicine                              82\n",
       "BDS, MDS - Conservative Dentistry & Endodontics           68\n",
       "MBBS, DDV                                                 66\n",
       "BDS, MDS                                                  63\n",
       "BDS, MDS - Oral & Maxillofacial Surgery                   57\n",
       "MD - Dermatology , Venereology & Leprosy, MBBS            52\n",
       "BDS, MDS - Prosthodontics                                 45\n",
       "MBBS, MS - Otorhinolaryngology                            44\n",
       "MBBS, MD - Internal Medicine                              43\n",
       "BDS, MDS - Orthodontics                                   41\n",
       "MBBS, MD - Medicine                                       41\n",
       "MS - ENT, MBBS                                            37\n",
       "BDS, MDS - Paedodontics And Preventive Dentistry          32\n",
       "MD - Dermatology, MBBS                                    31\n",
       "MBBS, Diploma in Dermatology                              31\n",
       "BDS, MDS - Orthodontics and Dentofacial Orthopaedics      29\n",
       "BDS, MDS - Periodontology and Oral Implantology           29\n",
       "MBBS, Diploma in Otorhinolaryngology (DLO), DNB - ENT     27\n",
       "BDS, MDS - Prosthodontist And Crown Bridge                25\n",
       "Name: Qualification, dtype: int64"
      ]
     },
     "execution_count": 8,
     "metadata": {},
     "output_type": "execute_result"
    }
   ],
   "source": [
    "df['Qualification'].value_counts()[:30]"
   ]
  },
  {
   "cell_type": "markdown",
   "metadata": {},
   "source": [
    "Top 30 rows of qualification have these top 10 degrees MBBS,BDS,BAMS,MD,BHMS,Fellowship,DLO,MLO,DNB,DDVL,MS in common"
   ]
  },
  {
   "cell_type": "markdown",
   "metadata": {},
   "source": [
    "# Splitting the qualification column into multiple degree wise columns"
   ]
  },
  {
   "cell_type": "code",
   "execution_count": 9,
   "metadata": {},
   "outputs": [],
   "source": [
    "df[\"Qualification\"]=df[\"Qualification\"].str.split(\",\")\n",
    "Qualification ={}\n",
    "for qual in df[\"Qualification\"].values:\n",
    "    for value in qual:\n",
    "        value = value.strip()\n",
    "        if value in Qualification:\n",
    "            Qualification[value]+=1\n",
    "        else:\n",
    "            Qualification[value]=1"
   ]
  },
  {
   "cell_type": "code",
   "execution_count": 10,
   "metadata": {},
   "outputs": [
    {
     "name": "stdout",
     "output_type": "stream",
     "text": [
      "['MBBS', 'BDS', 'BAMS', 'BHMS', 'MD - Dermatology', 'MS - ENT', 'Venereology & Leprosy', 'MD - General Medicine', 'Diploma in Otorhinolaryngology (DLO)', 'MD - Homeopathy']\n"
     ]
    }
   ],
   "source": [
    "top10 = sorted(Qualification.items(),key=lambda x:x[1],reverse=True)[:10]\n",
    "final_qual = []\n",
    "for i in top10:\n",
    "    final_qual.append(i[0])\n",
    "    \n",
    "print(final_qual)"
   ]
  },
  {
   "cell_type": "code",
   "execution_count": 11,
   "metadata": {},
   "outputs": [],
   "source": [
    "for i in final_qual:\n",
    "    df[i] = int(0)\n",
    "\n",
    "for x,y in zip(df['Qualification'].values, np.array([i for i in range(len(df))])):\n",
    "    for i in x:\n",
    "        i = i.strip()\n",
    "        if i in final_qual:\n",
    "            df[i][y] = int(1)"
   ]
  },
  {
   "cell_type": "code",
   "execution_count": 12,
   "metadata": {},
   "outputs": [],
   "source": [
    "df.drop(['Qualification'],axis=1,inplace=True)\n"
   ]
  },
  {
   "cell_type": "markdown",
   "metadata": {},
   "source": [
    "# Spliting Place into Area and city"
   ]
  },
  {
   "cell_type": "code",
   "execution_count": 13,
   "metadata": {},
   "outputs": [],
   "source": [
    "df['Place']=df['Place'].fillna(df['Place'].mode()[0].strip())\n",
    "new = df[\"Place\"].str.split(\", \", n = 1, expand = True)\n",
    "df[\"Area\"]= new[0]\n",
    "df[\"City\"]= new[1]"
   ]
  },
  {
   "cell_type": "code",
   "execution_count": 14,
   "metadata": {},
   "outputs": [],
   "source": [
    "df.drop(['Place'],axis=1,inplace=True)"
   ]
  },
  {
   "cell_type": "markdown",
   "metadata": {},
   "source": [
    "# Getting required data from Experience"
   ]
  },
  {
   "cell_type": "code",
   "execution_count": 15,
   "metadata": {},
   "outputs": [],
   "source": [
    "new = df[\"Experience\"].str.split(\" \", n = 1, expand = True)\n",
    "df[\"Experience\"]= new[0]"
   ]
  },
  {
   "cell_type": "code",
   "execution_count": 16,
   "metadata": {},
   "outputs": [],
   "source": [
    "df.drop(['Miscellaneous_Info'],axis=1,inplace=True)"
   ]
  },
  {
   "cell_type": "code",
   "execution_count": 17,
   "metadata": {},
   "outputs": [
    {
     "data": {
      "text/html": [
       "<div>\n",
       "<style scoped>\n",
       "    .dataframe tbody tr th:only-of-type {\n",
       "        vertical-align: middle;\n",
       "    }\n",
       "\n",
       "    .dataframe tbody tr th {\n",
       "        vertical-align: top;\n",
       "    }\n",
       "\n",
       "    .dataframe thead th {\n",
       "        text-align: right;\n",
       "    }\n",
       "</style>\n",
       "<table border=\"1\" class=\"dataframe\">\n",
       "  <thead>\n",
       "    <tr style=\"text-align: right;\">\n",
       "      <th></th>\n",
       "      <th>Experience</th>\n",
       "      <th>Rating</th>\n",
       "      <th>Profile</th>\n",
       "      <th>Fees</th>\n",
       "      <th>MBBS</th>\n",
       "      <th>BDS</th>\n",
       "      <th>BAMS</th>\n",
       "      <th>BHMS</th>\n",
       "      <th>MD - Dermatology</th>\n",
       "      <th>MS - ENT</th>\n",
       "      <th>Venereology &amp; Leprosy</th>\n",
       "      <th>MD - General Medicine</th>\n",
       "      <th>Diploma in Otorhinolaryngology (DLO)</th>\n",
       "      <th>MD - Homeopathy</th>\n",
       "      <th>Area</th>\n",
       "      <th>City</th>\n",
       "    </tr>\n",
       "  </thead>\n",
       "  <tbody>\n",
       "    <tr>\n",
       "      <th>0</th>\n",
       "      <td>24</td>\n",
       "      <td>100%</td>\n",
       "      <td>Homeopath</td>\n",
       "      <td>100</td>\n",
       "      <td>0</td>\n",
       "      <td>0</td>\n",
       "      <td>0</td>\n",
       "      <td>1</td>\n",
       "      <td>0</td>\n",
       "      <td>0</td>\n",
       "      <td>0</td>\n",
       "      <td>0</td>\n",
       "      <td>0</td>\n",
       "      <td>1</td>\n",
       "      <td>Kakkanad</td>\n",
       "      <td>Ernakulam</td>\n",
       "    </tr>\n",
       "    <tr>\n",
       "      <th>1</th>\n",
       "      <td>12</td>\n",
       "      <td>98%</td>\n",
       "      <td>Ayurveda</td>\n",
       "      <td>350</td>\n",
       "      <td>0</td>\n",
       "      <td>0</td>\n",
       "      <td>1</td>\n",
       "      <td>0</td>\n",
       "      <td>0</td>\n",
       "      <td>0</td>\n",
       "      <td>0</td>\n",
       "      <td>0</td>\n",
       "      <td>0</td>\n",
       "      <td>0</td>\n",
       "      <td>Whitefield</td>\n",
       "      <td>Bangalore</td>\n",
       "    </tr>\n",
       "    <tr>\n",
       "      <th>2</th>\n",
       "      <td>9</td>\n",
       "      <td>NaN</td>\n",
       "      <td>ENT Specialist</td>\n",
       "      <td>300</td>\n",
       "      <td>1</td>\n",
       "      <td>0</td>\n",
       "      <td>0</td>\n",
       "      <td>0</td>\n",
       "      <td>0</td>\n",
       "      <td>0</td>\n",
       "      <td>0</td>\n",
       "      <td>0</td>\n",
       "      <td>0</td>\n",
       "      <td>0</td>\n",
       "      <td>Mathikere - BEL</td>\n",
       "      <td>Bangalore</td>\n",
       "    </tr>\n",
       "    <tr>\n",
       "      <th>3</th>\n",
       "      <td>12</td>\n",
       "      <td>NaN</td>\n",
       "      <td>Ayurveda</td>\n",
       "      <td>250</td>\n",
       "      <td>0</td>\n",
       "      <td>0</td>\n",
       "      <td>1</td>\n",
       "      <td>0</td>\n",
       "      <td>0</td>\n",
       "      <td>0</td>\n",
       "      <td>0</td>\n",
       "      <td>0</td>\n",
       "      <td>0</td>\n",
       "      <td>0</td>\n",
       "      <td>Bannerghatta Road</td>\n",
       "      <td>Bangalore</td>\n",
       "    </tr>\n",
       "    <tr>\n",
       "      <th>4</th>\n",
       "      <td>20</td>\n",
       "      <td>100%</td>\n",
       "      <td>Ayurveda</td>\n",
       "      <td>250</td>\n",
       "      <td>0</td>\n",
       "      <td>0</td>\n",
       "      <td>1</td>\n",
       "      <td>0</td>\n",
       "      <td>0</td>\n",
       "      <td>0</td>\n",
       "      <td>0</td>\n",
       "      <td>0</td>\n",
       "      <td>0</td>\n",
       "      <td>0</td>\n",
       "      <td>Keelkattalai</td>\n",
       "      <td>Chennai</td>\n",
       "    </tr>\n",
       "  </tbody>\n",
       "</table>\n",
       "</div>"
      ],
      "text/plain": [
       "  Experience Rating         Profile  Fees  MBBS  BDS  BAMS  BHMS  \\\n",
       "0         24   100%       Homeopath   100     0    0     0     1   \n",
       "1         12    98%        Ayurveda   350     0    0     1     0   \n",
       "2          9    NaN  ENT Specialist   300     1    0     0     0   \n",
       "3         12    NaN        Ayurveda   250     0    0     1     0   \n",
       "4         20   100%        Ayurveda   250     0    0     1     0   \n",
       "\n",
       "   MD - Dermatology  MS - ENT  Venereology & Leprosy  MD - General Medicine  \\\n",
       "0                 0         0                      0                      0   \n",
       "1                 0         0                      0                      0   \n",
       "2                 0         0                      0                      0   \n",
       "3                 0         0                      0                      0   \n",
       "4                 0         0                      0                      0   \n",
       "\n",
       "   Diploma in Otorhinolaryngology (DLO)  MD - Homeopathy               Area  \\\n",
       "0                                     0                1           Kakkanad   \n",
       "1                                     0                0         Whitefield   \n",
       "2                                     0                0    Mathikere - BEL   \n",
       "3                                     0                0  Bannerghatta Road   \n",
       "4                                     0                0       Keelkattalai   \n",
       "\n",
       "        City  \n",
       "0  Ernakulam  \n",
       "1  Bangalore  \n",
       "2  Bangalore  \n",
       "3  Bangalore  \n",
       "4    Chennai  "
      ]
     },
     "execution_count": 17,
     "metadata": {},
     "output_type": "execute_result"
    }
   ],
   "source": [
    "df.head()"
   ]
  },
  {
   "cell_type": "markdown",
   "metadata": {},
   "source": [
    "# Converting Rating into groups"
   ]
  },
  {
   "cell_type": "code",
   "execution_count": 18,
   "metadata": {},
   "outputs": [],
   "source": [
    "df['Rating'].fillna('-1%',inplace=True)"
   ]
  },
  {
   "cell_type": "code",
   "execution_count": 19,
   "metadata": {},
   "outputs": [],
   "source": [
    "df['Rating'] = df['Rating'].str.slice(stop=-1).astype(int)"
   ]
  },
  {
   "cell_type": "code",
   "execution_count": 20,
   "metadata": {},
   "outputs": [],
   "source": [
    "bins = [-1,0,10,20,30,40,50,60,70,80,90,100]\n",
    "labels = [int(i) for i in range(11)]\n",
    "df['Rating'] = pd.cut(df['Rating'], bins=bins, labels=labels, include_lowest=True)"
   ]
  },
  {
   "cell_type": "markdown",
   "metadata": {},
   "source": [
    "# Removing null values from Area and city"
   ]
  },
  {
   "cell_type": "code",
   "execution_count": 21,
   "metadata": {},
   "outputs": [],
   "source": [
    "\n",
    "df['Area']=df['Area'].fillna(df['Area'].mode()[0].strip())\n",
    "df['City']=df['City'].fillna(df['City'].mode()[0].strip())"
   ]
  },
  {
   "cell_type": "markdown",
   "metadata": {},
   "source": [
    "# confirming removal of null values"
   ]
  },
  {
   "cell_type": "code",
   "execution_count": 22,
   "metadata": {},
   "outputs": [
    {
     "data": {
      "text/plain": [
       "Experience                              0\n",
       "Rating                                  0\n",
       "Profile                                 0\n",
       "Fees                                    0\n",
       "MBBS                                    0\n",
       "BDS                                     0\n",
       "BAMS                                    0\n",
       "BHMS                                    0\n",
       "MD - Dermatology                        0\n",
       "MS - ENT                                0\n",
       "Venereology & Leprosy                   0\n",
       "MD - General Medicine                   0\n",
       "Diploma in Otorhinolaryngology (DLO)    0\n",
       "MD - Homeopathy                         0\n",
       "Area                                    0\n",
       "City                                    0\n",
       "dtype: int64"
      ]
     },
     "execution_count": 22,
     "metadata": {},
     "output_type": "execute_result"
    }
   ],
   "source": [
    "df.isnull().sum()"
   ]
  },
  {
   "cell_type": "code",
   "execution_count": 23,
   "metadata": {},
   "outputs": [],
   "source": [
    "df['Experience']=df['Experience'].astype(int)"
   ]
  },
  {
   "cell_type": "code",
   "execution_count": 24,
   "metadata": {},
   "outputs": [
    {
     "data": {
      "text/plain": [
       "<AxesSubplot:ylabel='Experience'>"
      ]
     },
     "execution_count": 24,
     "metadata": {},
     "output_type": "execute_result"
    },
    {
     "data": {
      "image/png": "[encoded data removed]",
      "text/plain": [
       "<Figure size 432x288 with 1 Axes>"
      ]
     },
     "metadata": {
      "needs_background": "light"
     },
     "output_type": "display_data"
    }
   ],
   "source": [
    "sns.boxplot(y='Experience',hue = 'Experience',data=df)"
   ]
  },
  {
   "cell_type": "markdown",
   "metadata": {},
   "source": [
    "No Outliers are present in Experience"
   ]
  },
  {
   "cell_type": "code",
   "execution_count": 25,
   "metadata": {},
   "outputs": [
    {
     "data": {
      "text/plain": [
       "<AxesSubplot:ylabel='Fees'>"
      ]
     },
     "execution_count": 25,
     "metadata": {},
     "output_type": "execute_result"
    },
    {
     "data": {
      "image/png": "[encoded data removed]",
      "text/plain": [
       "<Figure size 432x288 with 1 Axes>"
      ]
     },
     "metadata": {
      "needs_background": "light"
     },
     "output_type": "display_data"
    }
   ],
   "source": [
    "sns.boxplot(y='Fees',hue = 'Fees',data=df)"
   ]
  },
  {
   "cell_type": "markdown",
   "metadata": {},
   "source": [
    "No outliers are present in Fees"
   ]
  },
  {
   "cell_type": "code",
   "execution_count": 26,
   "metadata": {},
   "outputs": [
    {
     "data": {
      "image/png": "[encoded data removed]",
      "text/plain": [
       "<Figure size 1440x10800 with 13 Axes>"
      ]
     },
     "metadata": {
      "needs_background": "light"
     },
     "output_type": "display_data"
    }
   ],
   "source": [
    "\n",
    "counter=1\n",
    "plt.figure(figsize=(20,150))\n",
    "columns =  ['Experience', 'Rating', 'Fees', 'MBBS', 'BDS', 'BAMS',\n",
    "       'BHMS', 'MD - Dermatology', 'MS - ENT', 'Venereology & Leprosy',\n",
    "       'MD - General Medicine', 'Diploma in Otorhinolaryngology (DLO)',\n",
    "       'MD - Homeopathy']\n",
    "counter=1;\n",
    "for i in range(0,len(columns)):\n",
    "        plt.subplot(40,1,counter)\n",
    "        counter=counter+1\n",
    "        sns.distplot(df[columns[i]])"
   ]
  },
  {
   "cell_type": "markdown",
   "metadata": {},
   "source": [
    "    We can observe that Experience column in skewed\n",
    "    WE can observe that Fees is not normally distributed\n",
    "    Other columns have the data as 0 and 1"
   ]
  },
  {
   "cell_type": "code",
   "execution_count": 27,
   "metadata": {},
   "outputs": [
    {
     "data": {
      "text/plain": [
       "<AxesSubplot:>"
      ]
     },
     "execution_count": 27,
     "metadata": {},
     "output_type": "execute_result"
    },
    {
     "data": {
      "image/png": "[encoded data removed]",
      "text/plain": [
       "<Figure size 648x576 with 2 Axes>"
      ]
     },
     "metadata": {
      "needs_background": "light"
     },
     "output_type": "display_data"
    }
   ],
   "source": [
    "corrmat = df.corr()\n",
    "  \n",
    "f, ax = plt.subplots(figsize =(9, 8))\n",
    "sns.heatmap(corrmat, ax = ax, linewidths = 0.1)"
   ]
  },
  {
   "cell_type": "markdown",
   "metadata": {},
   "source": [
    "We can observe that 'venereology & Leprosy' and MD- Dermatology have a correlation. Other columns either have very week coorelation or no correlation"
   ]
  },
  {
   "cell_type": "code",
   "execution_count": 28,
   "metadata": {},
   "outputs": [
    {
     "data": {
      "text/plain": [
       "<AxesSubplot:xlabel='Fees', ylabel='Rating'>"
      ]
     },
     "execution_count": 28,
     "metadata": {},
     "output_type": "execute_result"
    },
    {
     "data": {
      "image/png": "[encoded data removed]",
      "text/plain": [
       "<Figure size 432x288 with 1 Axes>"
      ]
     },
     "metadata": {
      "needs_background": "light"
     },
     "output_type": "display_data"
    }
   ],
   "source": [
    "sns.scatterplot(x='Fees',y='Rating',data=df)"
   ]
  },
  {
   "cell_type": "code",
   "execution_count": 29,
   "metadata": {},
   "outputs": [
    {
     "data": {
      "text/plain": [
       "<AxesSubplot:xlabel='Fees', ylabel='Experience'>"
      ]
     },
     "execution_count": 29,
     "metadata": {},
     "output_type": "execute_result"
    },
    {
     "data": {
      "image/png": "[encoded data removed]",
      "text/plain": [
       "<Figure size 432x288 with 1 Axes>"
      ]
     },
     "metadata": {
      "needs_background": "light"
     },
     "output_type": "display_data"
    }
   ],
   "source": [
    "sns.scatterplot(x='Fees',y='Experience',data=df)"
   ]
  },
  {
   "cell_type": "markdown",
   "metadata": {},
   "source": [
    "We can observe that fees with 800 values are very less"
   ]
  },
  {
   "cell_type": "code",
   "execution_count": 30,
   "metadata": {},
   "outputs": [
    {
     "data": {
      "text/plain": [
       "<AxesSubplot:xlabel='Fees', ylabel='count'>"
      ]
     },
     "execution_count": 30,
     "metadata": {},
     "output_type": "execute_result"
    },
    {
     "data": {
      "image/png": "[encoded data removed]",
      "text/plain": [
       "<Figure size 1440x1440 with 1 Axes>"
      ]
     },
     "metadata": {
      "needs_background": "light"
     },
     "output_type": "display_data"
    }
   ],
   "source": [
    "plt.figure(figsize=(20,20))\n",
    "sns.countplot(x='Fees',data=df)"
   ]
  },
  {
   "cell_type": "markdown",
   "metadata": {},
   "source": [
    "We can see that most of the doctors have fees as 100 and hihgest fees asked is 950"
   ]
  },
  {
   "cell_type": "code",
   "execution_count": 31,
   "metadata": {},
   "outputs": [
    {
     "data": {
      "text/plain": [
       "<AxesSubplot:xlabel='Rating', ylabel='count'>"
      ]
     },
     "execution_count": 31,
     "metadata": {},
     "output_type": "execute_result"
    },
    {
     "data": {
      "image/png": "[encoded data removed]",
      "text/plain": [
       "<Figure size 1440x1440 with 1 Axes>"
      ]
     },
     "metadata": {
      "needs_background": "light"
     },
     "output_type": "display_data"
    }
   ],
   "source": [
    "plt.figure(figsize=(20,20))\n",
    "sns.countplot(x='Rating',data=df)"
   ]
  },
  {
   "cell_type": "markdown",
   "metadata": {},
   "source": [
    "We can observe that most of the doctors does not have any rating (represented as 0), \n",
    "Highest provided the rating is 10 "
   ]
  },
  {
   "cell_type": "code",
   "execution_count": 32,
   "metadata": {},
   "outputs": [
    {
     "data": {
      "text/plain": [
       "<AxesSubplot:xlabel='Experience', ylabel='count'>"
      ]
     },
     "execution_count": 32,
     "metadata": {},
     "output_type": "execute_result"
    },
    {
     "data": {
      "image/png": "[encoded data removed]",
      "text/plain": [
       "<Figure size 1440x1440 with 1 Axes>"
      ]
     },
     "metadata": {
      "needs_background": "light"
     },
     "output_type": "display_data"
    }
   ],
   "source": [
    "plt.figure(figsize=(20,20))\n",
    "sns.countplot(x='Experience',data=df)"
   ]
  },
  {
   "cell_type": "markdown",
   "metadata": {},
   "source": [
    "Most of the doctors have experience of 9 years"
   ]
  },
  {
   "cell_type": "markdown",
   "metadata": {},
   "source": [
    "# Removing Outliers"
   ]
  },
  {
   "cell_type": "code",
   "execution_count": 33,
   "metadata": {},
   "outputs": [],
   "source": [
    "columns =  ['Experience']\n",
    "for col in columns:\n",
    "    IQR = df[col].quantile(0.75)-df[col].quantile(0.25)\n",
    "    Barmax =  df[col].quantile(0.75) + 1.5*IQR\n",
    "    Barmin =  df[col].quantile(0.25) - 1.5*IQR\n",
    "    df.loc[df[col]>Barmax,col] = Barmax\n",
    "    df.loc[df[col]<Barmin,col] = Barmin"
   ]
  },
  {
   "cell_type": "markdown",
   "metadata": {},
   "source": [
    "# Confirming Removal of Outliers"
   ]
  },
  {
   "cell_type": "code",
   "execution_count": 34,
   "metadata": {},
   "outputs": [
    {
     "data": {
      "text/plain": [
       "<AxesSubplot:ylabel='Experience'>"
      ]
     },
     "execution_count": 34,
     "metadata": {},
     "output_type": "execute_result"
    },
    {
     "data": {
      "image/png": "[encoded data removed]",
      "text/plain": [
       "<Figure size 432x288 with 1 Axes>"
      ]
     },
     "metadata": {
      "needs_background": "light"
     },
     "output_type": "display_data"
    }
   ],
   "source": [
    "sns.boxplot(y='Experience', hue='Experience',data=df)"
   ]
  },
  {
   "cell_type": "markdown",
   "metadata": {},
   "source": [
    "Outliers are removed"
   ]
  },
  {
   "cell_type": "markdown",
   "metadata": {},
   "source": [
    "# Scaling the data"
   ]
  },
  {
   "cell_type": "code",
   "execution_count": 35,
   "metadata": {},
   "outputs": [],
   "source": [
    "fin_df  = df.drop([\"Profile\",'Area','City','MBBS',\n",
    " 'BDS',\n",
    " 'BAMS',\n",
    " 'BHMS',\n",
    " 'MD - Dermatology',\n",
    " 'MS - ENT',\n",
    " 'Venereology & Leprosy',\n",
    " 'MD - General Medicine',\n",
    " 'Diploma in Otorhinolaryngology (DLO)',\n",
    " 'MD - Homeopathy','Fees'],axis=1) #dropping the converted object type variables/ target variable\n",
    "scaler = preprocessing.MinMaxScaler()\n",
    "minmax_df = scaler.fit_transform(fin_df)\n",
    "final_df = pd.DataFrame(minmax_df, columns = fin_df.columns)"
   ]
  },
  {
   "cell_type": "code",
   "execution_count": 36,
   "metadata": {},
   "outputs": [
    {
     "data": {
      "text/plain": [
       "Experience    0.847515\n",
       "Rating        0.240670\n",
       "dtype: float64"
      ]
     },
     "execution_count": 36,
     "metadata": {},
     "output_type": "execute_result"
    }
   ],
   "source": [
    "final_df.skew()"
   ]
  },
  {
   "cell_type": "markdown",
   "metadata": {},
   "source": [
    "Experience is skewed "
   ]
  },
  {
   "cell_type": "markdown",
   "metadata": {},
   "source": [
    "# Removing the skewness"
   ]
  },
  {
   "cell_type": "code",
   "execution_count": 37,
   "metadata": {},
   "outputs": [],
   "source": [
    "fin_df_new=power_transform(final_df)\n",
    "fin_df_new = pd.DataFrame(fin_df_new,columns=final_df.columns)"
   ]
  },
  {
   "cell_type": "markdown",
   "metadata": {},
   "source": [
    "# Confirming the removal of skewness"
   ]
  },
  {
   "cell_type": "code",
   "execution_count": 38,
   "metadata": {},
   "outputs": [
    {
     "data": {
      "text/plain": [
       "Experience    0.061977\n",
       "Rating        0.226261\n",
       "dtype: float64"
      ]
     },
     "execution_count": 38,
     "metadata": {},
     "output_type": "execute_result"
    }
   ],
   "source": [
    "fin_df_new.skew()"
   ]
  },
  {
   "cell_type": "code",
   "execution_count": null,
   "metadata": {},
   "outputs": [],
   "source": []
  },
  {
   "cell_type": "code",
   "execution_count": 39,
   "metadata": {},
   "outputs": [],
   "source": [
    "fin_df_new = fin_df_new.join(df[\"Profile\"])\n",
    "fin_df_new = fin_df_new.join(df[\"Area\"])\n",
    "fin_df_new = fin_df_new.join(df[\"City\"])\n",
    "fin_df_new = fin_df_new.join(df[\"MBBS\"])\n",
    "fin_df_new = fin_df_new.join(df[\"BDS\"])\n",
    "fin_df_new = fin_df_new.join(df[\"BAMS\"])\n",
    "fin_df_new = fin_df_new.join(df[\"BHMS\"])\n",
    "fin_df_new = fin_df_new.join(df[\"MS - ENT\"])\n",
    "fin_df_new = fin_df_new.join(df[\"Venereology & Leprosy\"])\n",
    "fin_df_new = fin_df_new.join(df[\"Diploma in Otorhinolaryngology (DLO)\"])\n",
    "fin_df_new = fin_df_new.join(df[\"MD - Homeopathy\"])\n",
    "fin_df_new = fin_df_new.join(df[\"MD - General Medicine\"])\n",
    "fin_df_new = fin_df_new.join(df[\"Fees\"])"
   ]
  },
  {
   "cell_type": "code",
   "execution_count": 40,
   "metadata": {},
   "outputs": [
    {
     "data": {
      "text/html": [
       "<div>\n",
       "<style scoped>\n",
       "    .dataframe tbody tr th:only-of-type {\n",
       "        vertical-align: middle;\n",
       "    }\n",
       "\n",
       "    .dataframe tbody tr th {\n",
       "        vertical-align: top;\n",
       "    }\n",
       "\n",
       "    .dataframe thead th {\n",
       "        text-align: right;\n",
       "    }\n",
       "</style>\n",
       "<table border=\"1\" class=\"dataframe\">\n",
       "  <thead>\n",
       "    <tr style=\"text-align: right;\">\n",
       "      <th></th>\n",
       "      <th>Experience</th>\n",
       "      <th>Rating</th>\n",
       "      <th>Profile</th>\n",
       "      <th>Area</th>\n",
       "      <th>City</th>\n",
       "      <th>MBBS</th>\n",
       "      <th>BDS</th>\n",
       "      <th>BAMS</th>\n",
       "      <th>BHMS</th>\n",
       "      <th>MS - ENT</th>\n",
       "      <th>Venereology &amp; Leprosy</th>\n",
       "      <th>Diploma in Otorhinolaryngology (DLO)</th>\n",
       "      <th>MD - Homeopathy</th>\n",
       "      <th>MD - General Medicine</th>\n",
       "      <th>Fees</th>\n",
       "    </tr>\n",
       "  </thead>\n",
       "  <tbody>\n",
       "    <tr>\n",
       "      <th>0</th>\n",
       "      <td>0.799393</td>\n",
       "      <td>1.142611</td>\n",
       "      <td>Homeopath</td>\n",
       "      <td>Kakkanad</td>\n",
       "      <td>Ernakulam</td>\n",
       "      <td>0</td>\n",
       "      <td>0</td>\n",
       "      <td>0</td>\n",
       "      <td>1</td>\n",
       "      <td>0</td>\n",
       "      <td>0</td>\n",
       "      <td>0</td>\n",
       "      <td>1</td>\n",
       "      <td>0</td>\n",
       "      <td>100</td>\n",
       "    </tr>\n",
       "    <tr>\n",
       "      <th>1</th>\n",
       "      <td>-0.353423</td>\n",
       "      <td>1.142611</td>\n",
       "      <td>Ayurveda</td>\n",
       "      <td>Whitefield</td>\n",
       "      <td>Bangalore</td>\n",
       "      <td>0</td>\n",
       "      <td>0</td>\n",
       "      <td>1</td>\n",
       "      <td>0</td>\n",
       "      <td>0</td>\n",
       "      <td>0</td>\n",
       "      <td>0</td>\n",
       "      <td>0</td>\n",
       "      <td>0</td>\n",
       "      <td>350</td>\n",
       "    </tr>\n",
       "    <tr>\n",
       "      <th>2</th>\n",
       "      <td>-0.745432</td>\n",
       "      <td>-0.895705</td>\n",
       "      <td>ENT Specialist</td>\n",
       "      <td>Mathikere - BEL</td>\n",
       "      <td>Bangalore</td>\n",
       "      <td>1</td>\n",
       "      <td>0</td>\n",
       "      <td>0</td>\n",
       "      <td>0</td>\n",
       "      <td>0</td>\n",
       "      <td>0</td>\n",
       "      <td>0</td>\n",
       "      <td>0</td>\n",
       "      <td>0</td>\n",
       "      <td>300</td>\n",
       "    </tr>\n",
       "    <tr>\n",
       "      <th>3</th>\n",
       "      <td>-0.353423</td>\n",
       "      <td>-0.895705</td>\n",
       "      <td>Ayurveda</td>\n",
       "      <td>Bannerghatta Road</td>\n",
       "      <td>Bangalore</td>\n",
       "      <td>0</td>\n",
       "      <td>0</td>\n",
       "      <td>1</td>\n",
       "      <td>0</td>\n",
       "      <td>0</td>\n",
       "      <td>0</td>\n",
       "      <td>0</td>\n",
       "      <td>0</td>\n",
       "      <td>0</td>\n",
       "      <td>250</td>\n",
       "    </tr>\n",
       "    <tr>\n",
       "      <th>4</th>\n",
       "      <td>0.474366</td>\n",
       "      <td>1.142611</td>\n",
       "      <td>Ayurveda</td>\n",
       "      <td>Keelkattalai</td>\n",
       "      <td>Chennai</td>\n",
       "      <td>0</td>\n",
       "      <td>0</td>\n",
       "      <td>1</td>\n",
       "      <td>0</td>\n",
       "      <td>0</td>\n",
       "      <td>0</td>\n",
       "      <td>0</td>\n",
       "      <td>0</td>\n",
       "      <td>0</td>\n",
       "      <td>250</td>\n",
       "    </tr>\n",
       "  </tbody>\n",
       "</table>\n",
       "</div>"
      ],
      "text/plain": [
       "   Experience    Rating         Profile               Area       City  MBBS  \\\n",
       "0    0.799393  1.142611       Homeopath           Kakkanad  Ernakulam     0   \n",
       "1   -0.353423  1.142611        Ayurveda         Whitefield  Bangalore     0   \n",
       "2   -0.745432 -0.895705  ENT Specialist    Mathikere - BEL  Bangalore     1   \n",
       "3   -0.353423 -0.895705        Ayurveda  Bannerghatta Road  Bangalore     0   \n",
       "4    0.474366  1.142611        Ayurveda       Keelkattalai    Chennai     0   \n",
       "\n",
       "   BDS  BAMS  BHMS  MS - ENT  Venereology & Leprosy  \\\n",
       "0    0     0     1         0                      0   \n",
       "1    0     1     0         0                      0   \n",
       "2    0     0     0         0                      0   \n",
       "3    0     1     0         0                      0   \n",
       "4    0     1     0         0                      0   \n",
       "\n",
       "   Diploma in Otorhinolaryngology (DLO)  MD - Homeopathy  \\\n",
       "0                                     0                1   \n",
       "1                                     0                0   \n",
       "2                                     0                0   \n",
       "3                                     0                0   \n",
       "4                                     0                0   \n",
       "\n",
       "   MD - General Medicine  Fees  \n",
       "0                      0   100  \n",
       "1                      0   350  \n",
       "2                      0   300  \n",
       "3                      0   250  \n",
       "4                      0   250  "
      ]
     },
     "execution_count": 40,
     "metadata": {},
     "output_type": "execute_result"
    }
   ],
   "source": [
    "fin_df_new.head()"
   ]
  },
  {
   "cell_type": "markdown",
   "metadata": {},
   "source": [
    "# Labeling the String columns"
   ]
  },
  {
   "cell_type": "code",
   "execution_count": 41,
   "metadata": {},
   "outputs": [],
   "source": [
    "from sklearn.preprocessing import LabelEncoder\n",
    "LE = LabelEncoder()\n",
    "fin_df_new['Profile'] =  LE.fit_transform(fin_df_new['Profile'])\n",
    "fin_df_new['Area'] =  LE.fit_transform(fin_df_new['Area'])\n",
    "fin_df_new['City'] =  LE.fit_transform(fin_df_new['City'])"
   ]
  },
  {
   "cell_type": "markdown",
   "metadata": {},
   "source": [
    "# ------Test data set------"
   ]
  },
  {
   "cell_type": "code",
   "execution_count": 42,
   "metadata": {},
   "outputs": [],
   "source": [
    "df2 = pd.read_excel(\"Final_Test.xlsx\")"
   ]
  },
  {
   "cell_type": "code",
   "execution_count": 43,
   "metadata": {},
   "outputs": [
    {
     "data": {
      "text/html": [
       "<div>\n",
       "<style scoped>\n",
       "    .dataframe tbody tr th:only-of-type {\n",
       "        vertical-align: middle;\n",
       "    }\n",
       "\n",
       "    .dataframe tbody tr th {\n",
       "        vertical-align: top;\n",
       "    }\n",
       "\n",
       "    .dataframe thead th {\n",
       "        text-align: right;\n",
       "    }\n",
       "</style>\n",
       "<table border=\"1\" class=\"dataframe\">\n",
       "  <thead>\n",
       "    <tr style=\"text-align: right;\">\n",
       "      <th></th>\n",
       "      <th>Qualification</th>\n",
       "      <th>Experience</th>\n",
       "      <th>Rating</th>\n",
       "      <th>Place</th>\n",
       "      <th>Profile</th>\n",
       "      <th>Miscellaneous_Info</th>\n",
       "    </tr>\n",
       "  </thead>\n",
       "  <tbody>\n",
       "    <tr>\n",
       "      <th>0</th>\n",
       "      <td>MBBS</td>\n",
       "      <td>35 years experience</td>\n",
       "      <td>NaN</td>\n",
       "      <td>Ghatkopar East, Mumbai</td>\n",
       "      <td>General Medicine</td>\n",
       "      <td>NaN</td>\n",
       "    </tr>\n",
       "    <tr>\n",
       "      <th>1</th>\n",
       "      <td>MBBS, Diploma in Otorhinolaryngology (DLO)</td>\n",
       "      <td>31 years experience</td>\n",
       "      <td>NaN</td>\n",
       "      <td>West Marredpally, Hyderabad</td>\n",
       "      <td>ENT Specialist</td>\n",
       "      <td>NaN</td>\n",
       "    </tr>\n",
       "    <tr>\n",
       "      <th>2</th>\n",
       "      <td>MBBS, DDVL</td>\n",
       "      <td>40 years experience</td>\n",
       "      <td>70%</td>\n",
       "      <td>KK Nagar, Chennai</td>\n",
       "      <td>Dermatologists</td>\n",
       "      <td>70% 4 Feedback KK Nagar, Chennai</td>\n",
       "    </tr>\n",
       "    <tr>\n",
       "      <th>3</th>\n",
       "      <td>BAMS</td>\n",
       "      <td>0 years experience</td>\n",
       "      <td>NaN</td>\n",
       "      <td>New Ashok Nagar, Delhi</td>\n",
       "      <td>Ayurveda</td>\n",
       "      <td>NaN</td>\n",
       "    </tr>\n",
       "    <tr>\n",
       "      <th>4</th>\n",
       "      <td>BDS, MDS - Conservative Dentistry &amp; Endodontics</td>\n",
       "      <td>16 years experience</td>\n",
       "      <td>100%</td>\n",
       "      <td>Kanakpura Road, Bangalore</td>\n",
       "      <td>Dentist</td>\n",
       "      <td>General Dentistry Conservative Dentistry Cosme...</td>\n",
       "    </tr>\n",
       "  </tbody>\n",
       "</table>\n",
       "</div>"
      ],
      "text/plain": [
       "                                     Qualification           Experience  \\\n",
       "0                                             MBBS  35 years experience   \n",
       "1       MBBS, Diploma in Otorhinolaryngology (DLO)  31 years experience   \n",
       "2                                       MBBS, DDVL  40 years experience   \n",
       "3                                             BAMS   0 years experience   \n",
       "4  BDS, MDS - Conservative Dentistry & Endodontics  16 years experience   \n",
       "\n",
       "  Rating                        Place           Profile  \\\n",
       "0    NaN       Ghatkopar East, Mumbai  General Medicine   \n",
       "1    NaN  West Marredpally, Hyderabad    ENT Specialist   \n",
       "2    70%            KK Nagar, Chennai    Dermatologists   \n",
       "3    NaN       New Ashok Nagar, Delhi          Ayurveda   \n",
       "4   100%    Kanakpura Road, Bangalore           Dentist   \n",
       "\n",
       "                                  Miscellaneous_Info  \n",
       "0                                                NaN  \n",
       "1                                                NaN  \n",
       "2                   70% 4 Feedback KK Nagar, Chennai  \n",
       "3                                                NaN  \n",
       "4  General Dentistry Conservative Dentistry Cosme...  "
      ]
     },
     "execution_count": 43,
     "metadata": {},
     "output_type": "execute_result"
    }
   ],
   "source": [
    "df2.head()"
   ]
  },
  {
   "cell_type": "markdown",
   "metadata": {},
   "source": [
    "Test dataset doesnot have target variable"
   ]
  },
  {
   "cell_type": "code",
   "execution_count": 44,
   "metadata": {},
   "outputs": [
    {
     "data": {
      "text/plain": [
       "Qualification            0\n",
       "Experience               0\n",
       "Rating                1090\n",
       "Place                    6\n",
       "Profile                  0\n",
       "Miscellaneous_Info     834\n",
       "dtype: int64"
      ]
     },
     "execution_count": 44,
     "metadata": {},
     "output_type": "execute_result"
    }
   ],
   "source": [
    "df2.isnull().sum()"
   ]
  },
  {
   "cell_type": "markdown",
   "metadata": {},
   "source": [
    "We have null values in Rating and Miscellaneous info and place"
   ]
  },
  {
   "cell_type": "markdown",
   "metadata": {},
   "source": [
    "# Spliting the Qualification into multiple columns"
   ]
  },
  {
   "cell_type": "code",
   "execution_count": null,
   "metadata": {},
   "outputs": [],
   "source": []
  },
  {
   "cell_type": "code",
   "execution_count": 45,
   "metadata": {},
   "outputs": [],
   "source": [
    "for i in final_qual:\n",
    "    df2[i] = int(0)\n",
    "\n",
    "for x,y in zip(df2['Qualification'].values, np.array([i for i in range(len(df2))])):\n",
    "    x = x.split(\",\")\n",
    "    for i in x:\n",
    "        i = i.strip()\n",
    "        if i in final_qual:\n",
    "            df2[i][y] = int(1)\n",
    "            \n",
    "df2.drop('Qualification',axis=1,inplace=True)\n"
   ]
  },
  {
   "cell_type": "markdown",
   "metadata": {},
   "source": [
    "# Spliting the Place into Area and city"
   ]
  },
  {
   "cell_type": "code",
   "execution_count": 46,
   "metadata": {},
   "outputs": [],
   "source": [
    "df2['Place']=df2['Place'].fillna(df2['Place'].mode()[0].strip())"
   ]
  },
  {
   "cell_type": "code",
   "execution_count": 47,
   "metadata": {},
   "outputs": [],
   "source": [
    "new = df2[\"Place\"].str.split(\", \", n = 1, expand = True)\n",
    "df2[\"Area\"]= new[0]\n",
    "df2[\"City\"]= new[1]"
   ]
  },
  {
   "cell_type": "code",
   "execution_count": 48,
   "metadata": {},
   "outputs": [],
   "source": [
    "df2.drop(['Place'],axis=1,inplace=True)"
   ]
  },
  {
   "cell_type": "markdown",
   "metadata": {},
   "source": [
    "# Getting relevant info from Experience"
   ]
  },
  {
   "cell_type": "code",
   "execution_count": 49,
   "metadata": {},
   "outputs": [],
   "source": [
    "new = df2[\"Experience\"].str.split(\" \", n = 1, expand = True)\n",
    "df2[\"Experience\"]= new[0]"
   ]
  },
  {
   "cell_type": "code",
   "execution_count": 50,
   "metadata": {},
   "outputs": [],
   "source": [
    "df2.drop(['Miscellaneous_Info'],axis=1,inplace=True)"
   ]
  },
  {
   "cell_type": "markdown",
   "metadata": {},
   "source": [
    "# Splitting rating into bins"
   ]
  },
  {
   "cell_type": "code",
   "execution_count": 51,
   "metadata": {},
   "outputs": [],
   "source": [
    "df2['Rating'].fillna('-1%',inplace=True)\n",
    "df2['Rating'] = df2['Rating'].str.slice(stop=-1).astype(int)\n",
    "bins = [-1,0,10,20,30,40,50,60,70,80,90,100]\n",
    "labels = [int(i) for i in range(11)]\n",
    "df2['Rating'] = pd.cut(df2['Rating'], bins=bins, labels=labels, include_lowest=True)"
   ]
  },
  {
   "cell_type": "code",
   "execution_count": null,
   "metadata": {},
   "outputs": [],
   "source": []
  },
  {
   "cell_type": "code",
   "execution_count": 52,
   "metadata": {},
   "outputs": [],
   "source": [
    "df2['Experience']=df2['Experience'].astype(int)"
   ]
  },
  {
   "cell_type": "code",
   "execution_count": 53,
   "metadata": {},
   "outputs": [
    {
     "data": {
      "text/html": [
       "<div>\n",
       "<style scoped>\n",
       "    .dataframe tbody tr th:only-of-type {\n",
       "        vertical-align: middle;\n",
       "    }\n",
       "\n",
       "    .dataframe tbody tr th {\n",
       "        vertical-align: top;\n",
       "    }\n",
       "\n",
       "    .dataframe thead th {\n",
       "        text-align: right;\n",
       "    }\n",
       "</style>\n",
       "<table border=\"1\" class=\"dataframe\">\n",
       "  <thead>\n",
       "    <tr style=\"text-align: right;\">\n",
       "      <th></th>\n",
       "      <th>Experience</th>\n",
       "      <th>Rating</th>\n",
       "      <th>Profile</th>\n",
       "      <th>MBBS</th>\n",
       "      <th>BDS</th>\n",
       "      <th>BAMS</th>\n",
       "      <th>BHMS</th>\n",
       "      <th>MD - Dermatology</th>\n",
       "      <th>MS - ENT</th>\n",
       "      <th>Venereology &amp; Leprosy</th>\n",
       "      <th>MD - General Medicine</th>\n",
       "      <th>Diploma in Otorhinolaryngology (DLO)</th>\n",
       "      <th>MD - Homeopathy</th>\n",
       "      <th>Area</th>\n",
       "      <th>City</th>\n",
       "    </tr>\n",
       "  </thead>\n",
       "  <tbody>\n",
       "    <tr>\n",
       "      <th>0</th>\n",
       "      <td>35</td>\n",
       "      <td>0</td>\n",
       "      <td>General Medicine</td>\n",
       "      <td>1</td>\n",
       "      <td>0</td>\n",
       "      <td>0</td>\n",
       "      <td>0</td>\n",
       "      <td>0</td>\n",
       "      <td>0</td>\n",
       "      <td>0</td>\n",
       "      <td>0</td>\n",
       "      <td>0</td>\n",
       "      <td>0</td>\n",
       "      <td>Ghatkopar East</td>\n",
       "      <td>Mumbai</td>\n",
       "    </tr>\n",
       "    <tr>\n",
       "      <th>1</th>\n",
       "      <td>31</td>\n",
       "      <td>0</td>\n",
       "      <td>ENT Specialist</td>\n",
       "      <td>1</td>\n",
       "      <td>0</td>\n",
       "      <td>0</td>\n",
       "      <td>0</td>\n",
       "      <td>0</td>\n",
       "      <td>0</td>\n",
       "      <td>0</td>\n",
       "      <td>0</td>\n",
       "      <td>1</td>\n",
       "      <td>0</td>\n",
       "      <td>West Marredpally</td>\n",
       "      <td>Hyderabad</td>\n",
       "    </tr>\n",
       "    <tr>\n",
       "      <th>2</th>\n",
       "      <td>40</td>\n",
       "      <td>7</td>\n",
       "      <td>Dermatologists</td>\n",
       "      <td>1</td>\n",
       "      <td>0</td>\n",
       "      <td>0</td>\n",
       "      <td>0</td>\n",
       "      <td>0</td>\n",
       "      <td>0</td>\n",
       "      <td>0</td>\n",
       "      <td>0</td>\n",
       "      <td>0</td>\n",
       "      <td>0</td>\n",
       "      <td>KK Nagar</td>\n",
       "      <td>Chennai</td>\n",
       "    </tr>\n",
       "    <tr>\n",
       "      <th>3</th>\n",
       "      <td>0</td>\n",
       "      <td>0</td>\n",
       "      <td>Ayurveda</td>\n",
       "      <td>0</td>\n",
       "      <td>0</td>\n",
       "      <td>1</td>\n",
       "      <td>0</td>\n",
       "      <td>0</td>\n",
       "      <td>0</td>\n",
       "      <td>0</td>\n",
       "      <td>0</td>\n",
       "      <td>0</td>\n",
       "      <td>0</td>\n",
       "      <td>New Ashok Nagar</td>\n",
       "      <td>Delhi</td>\n",
       "    </tr>\n",
       "    <tr>\n",
       "      <th>4</th>\n",
       "      <td>16</td>\n",
       "      <td>10</td>\n",
       "      <td>Dentist</td>\n",
       "      <td>0</td>\n",
       "      <td>1</td>\n",
       "      <td>0</td>\n",
       "      <td>0</td>\n",
       "      <td>0</td>\n",
       "      <td>0</td>\n",
       "      <td>0</td>\n",
       "      <td>0</td>\n",
       "      <td>0</td>\n",
       "      <td>0</td>\n",
       "      <td>Kanakpura Road</td>\n",
       "      <td>Bangalore</td>\n",
       "    </tr>\n",
       "  </tbody>\n",
       "</table>\n",
       "</div>"
      ],
      "text/plain": [
       "   Experience Rating           Profile  MBBS  BDS  BAMS  BHMS  \\\n",
       "0          35      0  General Medicine     1    0     0     0   \n",
       "1          31      0    ENT Specialist     1    0     0     0   \n",
       "2          40      7    Dermatologists     1    0     0     0   \n",
       "3           0      0          Ayurveda     0    0     1     0   \n",
       "4          16     10           Dentist     0    1     0     0   \n",
       "\n",
       "   MD - Dermatology  MS - ENT  Venereology & Leprosy  MD - General Medicine  \\\n",
       "0                 0         0                      0                      0   \n",
       "1                 0         0                      0                      0   \n",
       "2                 0         0                      0                      0   \n",
       "3                 0         0                      0                      0   \n",
       "4                 0         0                      0                      0   \n",
       "\n",
       "   Diploma in Otorhinolaryngology (DLO)  MD - Homeopathy              Area  \\\n",
       "0                                     0                0    Ghatkopar East   \n",
       "1                                     1                0  West Marredpally   \n",
       "2                                     0                0          KK Nagar   \n",
       "3                                     0                0   New Ashok Nagar   \n",
       "4                                     0                0    Kanakpura Road   \n",
       "\n",
       "        City  \n",
       "0     Mumbai  \n",
       "1  Hyderabad  \n",
       "2    Chennai  \n",
       "3      Delhi  \n",
       "4  Bangalore  "
      ]
     },
     "execution_count": 53,
     "metadata": {},
     "output_type": "execute_result"
    }
   ],
   "source": [
    "df2.head()"
   ]
  },
  {
   "cell_type": "code",
   "execution_count": null,
   "metadata": {},
   "outputs": [],
   "source": []
  },
  {
   "cell_type": "markdown",
   "metadata": {},
   "source": [
    "# Removing outliers"
   ]
  },
  {
   "cell_type": "code",
   "execution_count": 54,
   "metadata": {},
   "outputs": [],
   "source": [
    "columns =  ['Experience']\n",
    "for col in columns:\n",
    "    IQR = df2[col].quantile(0.75)-df2[col].quantile(0.25)\n",
    "    Barmax =  df2[col].quantile(0.75) + 1.5*IQR\n",
    "    Barmin =  df2[col].quantile(0.25) - 1.5*IQR\n",
    "    df2.loc[df2[col]>Barmax,col] = Barmax\n",
    "    df2.loc[df2[col]<Barmin,col] = Barmin"
   ]
  },
  {
   "cell_type": "markdown",
   "metadata": {},
   "source": [
    "# Scaling the data"
   ]
  },
  {
   "cell_type": "code",
   "execution_count": 55,
   "metadata": {},
   "outputs": [],
   "source": [
    "fin_df2  = df2.drop([\"Profile\",'Area','City','MBBS',\n",
    " 'BDS',\n",
    " 'BAMS',\n",
    " 'BHMS',\n",
    " 'MD - Dermatology',\n",
    " 'MS - ENT',\n",
    " 'Venereology & Leprosy',\n",
    " 'MD - General Medicine',\n",
    " 'Diploma in Otorhinolaryngology (DLO)',\n",
    " 'MD - Homeopathy'],axis=1) #dropping the object type variables/ target variable\n",
    "scaler = preprocessing.MinMaxScaler()\n",
    "minmax_df = scaler.fit_transform(fin_df2)\n",
    "final_df2 = pd.DataFrame(minmax_df, columns = fin_df2.columns)"
   ]
  },
  {
   "cell_type": "markdown",
   "metadata": {},
   "source": [
    "# Removing the skewness"
   ]
  },
  {
   "cell_type": "code",
   "execution_count": 56,
   "metadata": {},
   "outputs": [],
   "source": [
    "fin_df_new2=power_transform(final_df2)\n",
    "fin_df_new2 = pd.DataFrame(fin_df_new2,columns=final_df2.columns)"
   ]
  },
  {
   "cell_type": "code",
   "execution_count": 57,
   "metadata": {},
   "outputs": [],
   "source": [
    "fin_df_new2 = fin_df_new2.join(df2[\"Profile\"])\n",
    "fin_df_new2 = fin_df_new2.join(df2[\"Area\"])\n",
    "fin_df_new2 = fin_df_new2.join(df2[\"City\"])\n",
    "fin_df_new2 = fin_df_new2.join(df2[\"MBBS\"])\n",
    "fin_df_new2 = fin_df_new2.join(df2[\"BDS\"])\n",
    "fin_df_new2 = fin_df_new2.join(df2[\"BAMS\"])\n",
    "fin_df_new2 = fin_df_new2.join(df2[\"BHMS\"])\n",
    "fin_df_new2 = fin_df_new2.join(df2[\"MS - ENT\"])\n",
    "fin_df_new2 = fin_df_new2.join(df2[\"Venereology & Leprosy\"])\n",
    "fin_df_new2 = fin_df_new2.join(df2[\"Diploma in Otorhinolaryngology (DLO)\"])\n",
    "fin_df_new2 = fin_df_new2.join(df2[\"MD - Homeopathy\"])\n",
    "fin_df_new2 = fin_df_new2.join(df2[\"MD - General Medicine\"])"
   ]
  },
  {
   "cell_type": "markdown",
   "metadata": {},
   "source": [
    "# Labeling the data"
   ]
  },
  {
   "cell_type": "code",
   "execution_count": 58,
   "metadata": {},
   "outputs": [],
   "source": [
    "from sklearn.preprocessing import LabelEncoder\n",
    "LE = LabelEncoder()\n",
    "fin_df_new2['Profile'] =  LE.fit_transform(fin_df_new2['Profile'])\n",
    "fin_df_new2['Area'] =  LE.fit_transform(fin_df_new2['Area'])\n",
    "fin_df_new2['City'] =  LE.fit_transform(fin_df_new2['City'])"
   ]
  },
  {
   "cell_type": "markdown",
   "metadata": {},
   "source": [
    "# Train test "
   ]
  },
  {
   "cell_type": "code",
   "execution_count": 59,
   "metadata": {},
   "outputs": [
    {
     "name": "stdout",
     "output_type": "stream",
     "text": [
      "Best R2 Score is 0.1634520083571378 on Random State 108\n"
     ]
    }
   ],
   "source": [
    "x=fin_df_new.drop('Fees',axis=1)\n",
    "y=fin_df_new['Fees']\n",
    "from sklearn.linear_model import LinearRegression\n",
    "from sklearn.metrics import r2_score,mean_squared_error\n",
    "maxAccu=0\n",
    "maxRS=0\n",
    "for i in range(200):\n",
    "    x_train,x_test,y_train,y_test = train_test_split(x,y,test_size=.30,random_state=i)\n",
    "    regr = LinearRegression()\n",
    "    regr.fit(x_train, y_train)\n",
    "    pred=regr.predict(x_test)\n",
    "    acc = r2_score(y_test, pred)\n",
    "    if(acc>maxAccu):\n",
    "        maxAccu=acc\n",
    "        maxRS=i\n",
    "print(\"Best R2 Score is\",maxAccu,\"on Random State\",maxRS)\n"
   ]
  },
  {
   "cell_type": "code",
   "execution_count": 60,
   "metadata": {},
   "outputs": [],
   "source": [
    "train_x,test_x,train_y,test_y=train_test_split(x,y,test_size=.30,random_state=108)"
   ]
  },
  {
   "cell_type": "markdown",
   "metadata": {},
   "source": [
    "# Model building"
   ]
  },
  {
   "cell_type": "markdown",
   "metadata": {},
   "source": [
    "-------Linear regression-------"
   ]
  },
  {
   "cell_type": "code",
   "execution_count": 61,
   "metadata": {},
   "outputs": [
    {
     "name": "stdout",
     "output_type": "stream",
     "text": [
      "MAE: 142.08361416336808\n",
      "MSE: 31037.508145595242\n",
      "RMSE: 176.17465239243484\n"
     ]
    }
   ],
   "source": [
    "from sklearn import metrics\n",
    "lr=LinearRegression()\n",
    "lr.fit(train_x,train_y)\n",
    "y_pred = lr.predict(test_x)\n",
    "print('MAE:', metrics.mean_absolute_error(test_y, y_pred))\n",
    "print('MSE:', metrics.mean_squared_error(test_y, y_pred))\n",
    "print('RMSE:', np.sqrt(metrics.mean_squared_error(test_y, y_pred)))"
   ]
  },
  {
   "cell_type": "markdown",
   "metadata": {},
   "source": [
    "-------Ridge-------"
   ]
  },
  {
   "cell_type": "code",
   "execution_count": 62,
   "metadata": {},
   "outputs": [
    {
     "name": "stdout",
     "output_type": "stream",
     "text": [
      "MAE: 142.08373378853665\n",
      "MSE: 31037.53635904578\n",
      "RMSE: 176.17473246480546\n"
     ]
    }
   ],
   "source": [
    "rr = Ridge(alpha=0.01)\n",
    "rr.fit(train_x, train_y) \n",
    "predict= rr.predict(test_x)\n",
    "print('MAE:', metrics.mean_absolute_error(test_y, predict))\n",
    "print('MSE:', metrics.mean_squared_error(test_y, predict))\n",
    "print('RMSE:', np.sqrt(metrics.mean_squared_error(test_y,predict)))"
   ]
  },
  {
   "cell_type": "markdown",
   "metadata": {},
   "source": [
    "-------Lasso-------"
   ]
  },
  {
   "cell_type": "code",
   "execution_count": 63,
   "metadata": {},
   "outputs": [
    {
     "name": "stdout",
     "output_type": "stream",
     "text": [
      "MAE: 142.0897561791505\n",
      "MSE: 31039.41232458459\n",
      "RMSE: 176.18005654609317\n"
     ]
    }
   ],
   "source": [
    "model_lasso = Lasso(alpha=0.01)\n",
    "model_lasso.fit(train_x, train_y) \n",
    "pred_l= model_lasso.predict(test_x)\n",
    "print('MAE:', metrics.mean_absolute_error(test_y, pred_l))\n",
    "print('MSE:', metrics.mean_squared_error(test_y, pred_l))\n",
    "print('RMSE:', np.sqrt(metrics.mean_squared_error(test_y,pred_l)))"
   ]
  },
  {
   "cell_type": "markdown",
   "metadata": {},
   "source": [
    "-------Elastic Net-------"
   ]
  },
  {
   "cell_type": "code",
   "execution_count": 64,
   "metadata": {},
   "outputs": [
    {
     "name": "stdout",
     "output_type": "stream",
     "text": [
      "MAE: 142.3436659901621\n",
      "MSE: 31107.59381337553\n",
      "RMSE: 176.3734498539265\n"
     ]
    }
   ],
   "source": [
    "model_enet = ElasticNet(alpha = 0.01)\n",
    "model_enet.fit(train_x, train_y) \n",
    "pred_e= model_enet.predict(test_x)\n",
    "print('MAE:', metrics.mean_absolute_error(test_y, pred_e))\n",
    "print('MSE:', metrics.mean_squared_error(test_y, pred_e))\n",
    "print('RMSE:', np.sqrt(metrics.mean_squared_error(test_y,pred_e)))"
   ]
  },
  {
   "cell_type": "markdown",
   "metadata": {},
   "source": [
    "-------Decision Tree-------"
   ]
  },
  {
   "cell_type": "code",
   "execution_count": 65,
   "metadata": {},
   "outputs": [
    {
     "name": "stdout",
     "output_type": "stream",
     "text": [
      "MAE: 164.68418110676356\n",
      "MSE: 54315.17607602012\n",
      "RMSE: 233.05616506760794\n"
     ]
    }
   ],
   "source": [
    "from sklearn.tree import DecisionTreeRegressor\n",
    "from sklearn import metrics\n",
    "dtr=DecisionTreeRegressor()\n",
    "dtr.fit(train_x,train_y)\n",
    "pred=dtr.predict(test_x)\n",
    "print('MAE:', metrics.mean_absolute_error(test_y, pred))\n",
    "print('MSE:', metrics.mean_squared_error(test_y, pred))\n",
    "print('RMSE:', np.sqrt(metrics.mean_squared_error(test_y, pred)))"
   ]
  },
  {
   "cell_type": "markdown",
   "metadata": {},
   "source": [
    "-------Random Forest-------"
   ]
  },
  {
   "cell_type": "code",
   "execution_count": 68,
   "metadata": {},
   "outputs": [
    {
     "name": "stdout",
     "output_type": "stream",
     "text": [
      "MAE: 133.20541164257764\n",
      "MSE: 30466.175611558418\n",
      "RMSE: 174.54562615991964\n"
     ]
    }
   ],
   "source": [
    "from sklearn.ensemble import RandomForestRegressor\n",
    "rdr = RandomForestRegressor()\n",
    "rdr.fit(train_x,train_y)\n",
    "pred1=rdr.predict(test_x)\n",
    "print('MAE:', metrics.mean_absolute_error(test_y, pred1))\n",
    "print('MSE:', metrics.mean_squared_error(test_y, pred1))\n",
    "print('RMSE:', np.sqrt(metrics.mean_squared_error(test_y,pred1)))"
   ]
  },
  {
   "cell_type": "markdown",
   "metadata": {},
   "source": [
    " # Cross Validation Score"
   ]
  },
  {
   "cell_type": "code",
   "execution_count": 69,
   "metadata": {},
   "outputs": [
    {
     "name": "stdout",
     "output_type": "stream",
     "text": [
      "Cross validation score for linear regression: -143.49890423018172\n"
     ]
    }
   ],
   "source": [
    "print(\"Cross validation score for linear regression:\",cross_val_score(lr,x,y,scoring='neg_mean_absolute_error',cv=5).mean())"
   ]
  },
  {
   "cell_type": "code",
   "execution_count": 70,
   "metadata": {},
   "outputs": [
    {
     "name": "stdout",
     "output_type": "stream",
     "text": [
      "Cross validation score for ridge: -143.49896755598493\n"
     ]
    }
   ],
   "source": [
    "print(\"Cross validation score for ridge:\",cross_val_score(rr,x,y,scoring='neg_mean_absolute_error',cv=5).mean())"
   ]
  },
  {
   "cell_type": "code",
   "execution_count": 71,
   "metadata": {},
   "outputs": [
    {
     "name": "stdout",
     "output_type": "stream",
     "text": [
      "Cross validation score for lasso: -143.50457924581534\n"
     ]
    }
   ],
   "source": [
    "print(\"Cross validation score for lasso:\",cross_val_score(model_lasso,x,y,scoring='neg_mean_absolute_error',cv=5).mean())"
   ]
  },
  {
   "cell_type": "code",
   "execution_count": 72,
   "metadata": {},
   "outputs": [
    {
     "name": "stdout",
     "output_type": "stream",
     "text": [
      "Cross validation score elastic net: -143.66988530439858\n"
     ]
    }
   ],
   "source": [
    "print(\"Cross validation score elastic net:\",cross_val_score(model_enet,x,y,scoring='neg_mean_absolute_error',cv=5).mean())"
   ]
  },
  {
   "cell_type": "code",
   "execution_count": 73,
   "metadata": {},
   "outputs": [
    {
     "name": "stdout",
     "output_type": "stream",
     "text": [
      "Cross validation score Decision tree: -170.0407376362112\n"
     ]
    }
   ],
   "source": [
    "print(\"Cross validation score Decision tree:\",cross_val_score(dtr,x,y,scoring='neg_mean_absolute_error',cv=5).mean())"
   ]
  },
  {
   "cell_type": "code",
   "execution_count": 74,
   "metadata": {},
   "outputs": [
    {
     "name": "stdout",
     "output_type": "stream",
     "text": [
      "Cross validation score Random forest: -134.57710891182506\n"
     ]
    }
   ],
   "source": [
    "print(\"Cross validation score Random forest:\",cross_val_score(rdr,x,y,scoring='neg_mean_absolute_error',cv=5).mean())"
   ]
  },
  {
   "cell_type": "markdown",
   "metadata": {},
   "source": [
    "We will select Random forest for the hypertuning"
   ]
  },
  {
   "cell_type": "markdown",
   "metadata": {},
   "source": [
    "# Model Hypertuning"
   ]
  },
  {
   "cell_type": "code",
   "execution_count": 75,
   "metadata": {},
   "outputs": [],
   "source": [
    "from sklearn.model_selection import GridSearchCV"
   ]
  },
  {
   "cell_type": "code",
   "execution_count": 76,
   "metadata": {},
   "outputs": [],
   "source": [
    "parameter = {\n",
    " 'max_depth': [100, 400, 800],\n",
    " 'min_samples_leaf': [1, 2],\n",
    " 'min_samples_split': [2, 5],\n",
    " 'n_estimators': [200, 400, 800]\n",
    "}\n",
    "GCV = GridSearchCV(RandomForestRegressor(),parameter,cv=5)\n"
   ]
  },
  {
   "cell_type": "code",
   "execution_count": 77,
   "metadata": {},
   "outputs": [
    {
     "data": {
      "text/plain": [
       "GridSearchCV(cv=5, estimator=RandomForestRegressor(),\n",
       "             param_grid={'max_depth': [100, 400, 800],\n",
       "                         'min_samples_leaf': [1, 2],\n",
       "                         'min_samples_split': [2, 5],\n",
       "                         'n_estimators': [200, 400, 800]})"
      ]
     },
     "execution_count": 77,
     "metadata": {},
     "output_type": "execute_result"
    }
   ],
   "source": [
    "GCV.fit(train_x,train_y)"
   ]
  },
  {
   "cell_type": "code",
   "execution_count": 78,
   "metadata": {},
   "outputs": [
    {
     "data": {
      "text/plain": [
       "{'max_depth': 800,\n",
       " 'min_samples_leaf': 2,\n",
       " 'min_samples_split': 5,\n",
       " 'n_estimators': 800}"
      ]
     },
     "execution_count": 78,
     "metadata": {},
     "output_type": "execute_result"
    }
   ],
   "source": [
    "GCV.best_params_"
   ]
  },
  {
   "cell_type": "markdown",
   "metadata": {},
   "source": [
    "# Building Final Model"
   ]
  },
  {
   "cell_type": "code",
   "execution_count": 79,
   "metadata": {},
   "outputs": [
    {
     "name": "stdout",
     "output_type": "stream",
     "text": [
      "MAE: 130.88099375274095\n",
      "MSE: 29070.277356629875\n",
      "RMSE: 170.50008022470217\n"
     ]
    }
   ],
   "source": [
    "from sklearn.ensemble import RandomForestRegressor\n",
    "rdr = RandomForestRegressor(max_depth= 800,\n",
    "min_samples_leaf= 2,\n",
    "min_samples_split= 5,\n",
    "n_estimators= 800)\n",
    "rdr.fit(train_x,train_y)\n",
    "pred1=rdr.predict(test_x)\n",
    "print('MAE:', metrics.mean_absolute_error(test_y, pred1))\n",
    "print('MSE:', metrics.mean_squared_error(test_y, pred1))\n",
    "print('RMSE:', np.sqrt(metrics.mean_squared_error(test_y,pred1)))"
   ]
  },
  {
   "cell_type": "markdown",
   "metadata": {},
   "source": [
    "# Saving the model"
   ]
  },
  {
   "cell_type": "code",
   "execution_count": 80,
   "metadata": {},
   "outputs": [
    {
     "data": {
      "text/plain": [
       "['Doctor fees.pkl']"
      ]
     },
     "execution_count": 80,
     "metadata": {},
     "output_type": "execute_result"
    }
   ],
   "source": [
    "import joblib\n",
    "joblib.dump(rdr,\"Doctor fees.pkl\")\n"
   ]
  },
  {
   "cell_type": "code",
   "execution_count": null,
   "metadata": {},
   "outputs": [],
   "source": []
  }
 ],
 "metadata": {
  "kernelspec": {
   "display_name": "Python 3",
   "language": "python",
   "name": "python3"
  },
  "language_info": {
   "codemirror_mode": {
    "name": "ipython",
    "version": 3
   },
   "file_extension": ".py",
   "mimetype": "text/x-python",
   "name": "python",
   "nbconvert_exporter": "python",
   "pygments_lexer": "ipython3",
   "version": "3.8.5"
  }
 },
 "nbformat": 4,
 "nbformat_minor": 4
}
